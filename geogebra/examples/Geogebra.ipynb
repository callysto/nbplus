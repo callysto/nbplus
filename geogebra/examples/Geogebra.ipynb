{
 "cells": [
  {
   "cell_type": "markdown",
   "metadata": {},
   "source": [
    "# How to use Geogebra with Jupyter notebooks\n",
    "\n",
    "[GeoGebra](geogebra.org) is a powerful tool for creating interactive classroom materials and visualizations that many teachers are familiar with. One limitation of GeoGebra is the distribution of these materials. While GeoGebra allows a teacher to export their material to the GeoGebra website, the online interface makes it difficult to build a lesson around that material.\n",
    "\n",
    "One limitation is that the GeoGebra website will only display one applet at a time. The interface for adding text around the applet also has some limitations. (For example, there doesn't appear to be a straightforward way to add mathematical equations in that text.) The GeoGebra website does allow one to create a \"GeoGebra book\" but this seems to involve a fair amount of work.\n",
    "\n",
    "While it is possible to embed a GeoGebra applet in a standard HTML webpage, doing so requires a good working knowledge of HTML, along with familiarity with the GeoGebra embedding API. Both HTML and the GeoGebra website also have the limitation that content cannot be altered by students.\n",
    "\n",
    "The Jupyter environment provides us with an alternative: a teacher can build a lesson in a Jupyter notebook containing rich text and mathematical equations, interspersed with interactive GeoGebra applets. This notebook can then be distributed to students, who will be able to not only interact with the GeoGebra, applets: they will also be able to edit and add text. This will allow a teacher to include questions to be answered with the help of the applets, which can be answered by students *within the notebook itself*.\n",
    "\n",
    "The only catch is that there has been no straightforward way to integrate Geogebra applets with Jupyter Notebooks -- **until now**!\n",
    "\n",
    "We're working on a Python library to try to make this process as easy and seamless as possible while also providing you with the tools to do some powerful stuff. The library is still in development, but it is already usable!"
   ]
  },
  {
   "cell_type": "markdown",
   "metadata": {},
   "source": [
    "## Initializing the library\n",
    "First we need to import and initialize the library. It is only necessary to call `ggb = GGB()` once in the entire notebook!"
   ]
  },
  {
   "cell_type": "code",
   "execution_count": null,
   "metadata": {},
   "outputs": [],
   "source": [
    "from geogebra.ggb import *\n",
    "\n",
    "ggb = GGB()"
   ]
  },
  {
   "cell_type": "markdown",
   "metadata": {},
   "source": [
    "Now that we have initialized the library we can begin loading applets."
   ]
  },
  {
   "cell_type": "markdown",
   "metadata": {},
   "source": [
    "## Adding GeoGebra materials\n",
    "\n",
    "There are three ways to make your GeoGebra material available for a Jupyter notebook. For each option below, we've written instructions for someone who has created their own GeoGebra material using the GeoGebra 5 Classic desktop app. Note that the second option can be applied to any GeoGebra material you find online, subject to licensing restrictions.\n",
    "\n",
    "1. Using a local .ggb file.\n",
    "\n",
    "    For this option, create an applet using the desktop app, and save the file. You will then need to upload the file to your Jupyter server. To load the file foo.ggb, all you need is the command `ggb.file('foo.ggb').draw;`.\n",
    "2. Using an online material hosted on [GeoGebra.org](geogebra.org).\n",
    "\n",
    "    For this option, create your applet, and choose Export --> Dynamic Webpage. (`<ctrl><shift>-W`) Follow the website prompts to create your material. Once it's online, your material will be at an address such as [https://www.geogebra.org/m/MmEp8HXV](https://www.geogebra.org/m/MmEp8HXV). The 8-character string at the end of this address is the identifier for your material, called a **Material ID**. You can then load the applet using the command `ggb.material('MmEp8HXV\").draw();`.\n",
    "3. Using a base64 encoded string.\n",
    "\n",
    "    You can get the base64 string encoding of your applet from the the desktop app by hitting `<ctrl><shift>-B`. This can then be copied and pasted directly into your Jupyter notebook, or saved to a file. See below for details."
   ]
  },
  {
   "cell_type": "markdown",
   "metadata": {},
   "source": [
    "## Embedding a GeoGebra .ggb file\n",
    "To embed a file we first need to place it somewhere our notebook can access it. In this example I've created a directory called `applets` in the same directory as this notebook and I've filled it with notebooks to test with.\n",
    "\n",
    "Once the file is somewhere our server can access, embedding it is as easy as:"
   ]
  },
  {
   "cell_type": "code",
   "execution_count": null,
   "metadata": {},
   "outputs": [],
   "source": [
    "ggb.file('SAS.ggb').draw()"
   ]
  },
  {
   "cell_type": "markdown",
   "metadata": {},
   "source": [
    "That's it, that's all it takes to embed a file."
   ]
  },
  {
   "cell_type": "markdown",
   "metadata": {},
   "source": [
    "## Embedding a GeoGebra Material\n",
    "Embedding a GeoGebra material is very similar. We simply need to obtain the **Material ID** of the applet we want to include and call:"
   ]
  },
  {
   "cell_type": "code",
   "execution_count": null,
   "metadata": {
    "scrolled": false
   },
   "outputs": [],
   "source": [
    "ggb.material('qJR8EbT2').draw()"
   ]
  },
  {
   "cell_type": "markdown",
   "metadata": {},
   "source": [
    "This single command embeds the GeoGebra material located at [https://geogebra.org/m/qJR8EbT2](https://geogebra.org/m/qJR8EbT2)."
   ]
  },
  {
   "cell_type": "markdown",
   "metadata": {},
   "source": [
    "## Embedding multiple applets in one cell\n",
    "\n",
    "To embed multiple applets in one cell we just execute the code for each applet we want to embed."
   ]
  },
  {
   "cell_type": "code",
   "execution_count": null,
   "metadata": {},
   "outputs": [],
   "source": [
    "ggb.material('MmEp8HXV').draw()\n",
    "ggb.file('astroid.ggb').draw()"
   ]
  },
  {
   "cell_type": "markdown",
   "metadata": {},
   "source": [
    "## Setting additional options\n",
    "\n",
    "I hope you didn't think that was all we could do! We're only just getting started!\n",
    "\n",
    "We can set additional options by chaining them before the `draw()` method. Here we load an applet with a custom `width` and `height`."
   ]
  },
  {
   "cell_type": "code",
   "execution_count": null,
   "metadata": {
    "scrolled": false
   },
   "outputs": [],
   "source": [
    "ggb.file('reflections-geogebra.ggb').width(900).height(600).draw()"
   ]
  },
  {
   "cell_type": "markdown",
   "metadata": {},
   "source": [
    "## Assigning applets to variables\n",
    "\n",
    "Creating an applet with `ggb.material()` or `ggb.file()` actually returns a Python object for that applet. We can assign this object to a variable and pass it around.\n",
    "\n",
    "In addition, all of the setting configuration methods as well as will modify the object and return the modified object (this is why chaining works). The `draw()` method actually returns a different object corresponding to that specific drawing."
   ]
  },
  {
   "cell_type": "code",
   "execution_count": null,
   "metadata": {},
   "outputs": [],
   "source": [
    "g2 = ggb.material('t5KDeERz')\n",
    "g1 = ggb.material('kqPW2pwu').width(900)\n",
    "g3 = ggb.file('epi-hypocycloids-default.ggb')"
   ]
  },
  {
   "cell_type": "markdown",
   "metadata": {},
   "source": [
    "Once the object has been assigned to a variable we can access and modify it from other cells. Just remember to end the statement with a semicolon to suppress output."
   ]
  },
  {
   "cell_type": "code",
   "execution_count": null,
   "metadata": {},
   "outputs": [],
   "source": [
    "g3.width(900).height(200)"
   ]
  },
  {
   "cell_type": "markdown",
   "metadata": {},
   "source": [
    "They are only embedded in the cell where you call `draw()`."
   ]
  },
  {
   "cell_type": "code",
   "execution_count": null,
   "metadata": {},
   "outputs": [],
   "source": [
    "g3.draw()\n",
    "g1.draw()"
   ]
  },
  {
   "cell_type": "markdown",
   "metadata": {},
   "source": [
    "The applets can be drawn into different cells in any order."
   ]
  },
  {
   "cell_type": "code",
   "execution_count": null,
   "metadata": {},
   "outputs": [],
   "source": [
    "g2.draw()"
   ]
  },
  {
   "cell_type": "markdown",
   "metadata": {},
   "source": [
    "They can also be drawn multiple times."
   ]
  },
  {
   "cell_type": "code",
   "execution_count": null,
   "metadata": {},
   "outputs": [],
   "source": [
    "g2.draw()\n",
    "g2.draw()"
   ]
  },
  {
   "cell_type": "markdown",
   "metadata": {},
   "source": [
    "## Embedding plain GeoGebra applets\n",
    "\n",
    "In some cases you may want to just include a plain GeoGebra applet that readers can use to solve a problem (as opposed to applets included as demonstrations).\n",
    "\n",
    "To this end GeoGebra has a list of standard apps we can embed.\n",
    "\n",
    "| name | description |\n",
    "| --- | --- |\n",
    "| \"graphing\" | GeoGebra Graphing Calculator |\n",
    "| \"geometry\" | GeoGebra Geometry |\n",
    "| \"3d\" | GeoGebra 3D Graphing Calculator |\n",
    "| \"classic\" | GeoGebra Classic |\n",
    "\n",
    "The process for embedding them is almost identical to the previous examples except that since these applets are basically empty we need to pass a `width` and `height` otherwise they will be tiny. In addition, you'll likely want to enable some menu features depending on the type of applet. In this case we use the `options()` to enable the algebra menu so that users can insert equations to be graphed."
   ]
  },
  {
   "cell_type": "code",
   "execution_count": null,
   "metadata": {
    "scrolled": false
   },
   "outputs": [],
   "source": [
    "ggb.app(name='graphing').width(900).height(600).options(showAlgebraInput=True).draw()"
   ]
  },
  {
   "cell_type": "markdown",
   "metadata": {},
   "source": [
    "## More advanced options\n",
    "In the last example you saw the `options()` method being used. This can be used to set every setting supported by GeoGebra. To use it simply pass it a list of settings as input.\n",
    "\n",
    "For now a list of settings can be found [here](https://wiki.geogebra.org/en/Reference:GeoGebra_App_Parameters) and more advanced examples can be seen below."
   ]
  },
  {
   "cell_type": "code",
   "execution_count": null,
   "metadata": {
    "scrolled": false
   },
   "outputs": [],
   "source": [
    "g3d = ggb.app(name='3d').options(width=900, \n",
    "                                 height=600,\n",
    "                                 showToolBar=True,\n",
    "                                 showAlgebraInput=True,\n",
    "                                 showMenuBar=True,\n",
    "                                 borderColor='#FF0000')\n",
    "drawingOfg3d = g3d.draw()"
   ]
  },
  {
   "cell_type": "markdown",
   "metadata": {},
   "source": [
    "## Debugging\n",
    "\n",
    "For now there is very little in the way of debugging tools, I hope to include more later.\n",
    "\n",
    "In situations where an applet doesn't display the way the user expected, one may call the call the `asString()` method to print out the exact list of parameters given to GeoGebra's JavaScript API. I've found it useful for identifying capitalization mistakes or cases where number was accidentally passed as a string."
   ]
  },
  {
   "cell_type": "code",
   "execution_count": null,
   "metadata": {},
   "outputs": [],
   "source": [
    "ggb.asDict()"
   ]
  },
  {
   "cell_type": "code",
   "execution_count": null,
   "metadata": {},
   "outputs": [],
   "source": [
    "g3d.asDict()"
   ]
  },
  {
   "cell_type": "code",
   "execution_count": null,
   "metadata": {
    "scrolled": true
   },
   "outputs": [],
   "source": [
    "drawingOfg3d.asDict()"
   ]
  },
  {
   "cell_type": "markdown",
   "metadata": {},
   "source": [
    "## Interaction with Jupyter widgets (coming soon)\n",
    "\n",
    "GeoGebra has a very powerful Javascript API that we would like to expose through Python functions. Unfortunately the implementation of these functions is still in the early planning stages. That said, here is a simple demo to give readers an idea of what this functionality entails.\n",
    "\n",
    "First we'll load the ipywidgets library like usual if one is planning on using widgets."
   ]
  },
  {
   "cell_type": "code",
   "execution_count": null,
   "metadata": {},
   "outputs": [],
   "source": [
    "from ipywidgets import interact"
   ]
  },
  {
   "cell_type": "markdown",
   "metadata": {},
   "source": [
    "Next we load a GeoGebra applet and assign it to a variable.\n",
    "\n",
    "By the way, I neglected to mention that we can also embed GeoGebra applets by providing them as a *base64 encoded string*. This is because I'm not sure how practical this feature actually is (if you do end up using it make sure to enclose the string in triple parenthesis due to the special characters).\n",
    "\n",
    "Either way, even though it *looks different and intimidating* this is **exactly the same** as including an applet as a `file` or a `material`."
   ]
  },
  {
   "cell_type": "code",
   "execution_count": null,
   "metadata": {},
   "outputs": [],
   "source": [
    "g64 = ggb.base64('''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''')\n",
    "drawingOfg64 = g64.draw()"
   ]
  },
  {
   "cell_type": "markdown",
   "metadata": {},
   "source": [
    "Here the `setVisible()` method exposes some really basic API functionality that allows one to make an object visible or invisible.\n",
    "\n",
    "This call will make the *point* `B` *invisible*."
   ]
  },
  {
   "cell_type": "code",
   "execution_count": null,
   "metadata": {},
   "outputs": [],
   "source": [
    "drawingOfg64.setVisible('B', False)"
   ]
  },
  {
   "cell_type": "markdown",
   "metadata": {},
   "source": [
    "This call will make the *point* `B` *visible*."
   ]
  },
  {
   "cell_type": "code",
   "execution_count": null,
   "metadata": {},
   "outputs": [],
   "source": [
    "drawingOfg64.setVisible('B', True)"
   ]
  },
  {
   "cell_type": "markdown",
   "metadata": {},
   "source": [
    "With this functionality in hand we can create a widget to toggle the visibility of the point. We can accomplish this with a simple checkbox widget that calls our function. As you can see, checking and unchecking the box will toggle the visibility of the point `B`."
   ]
  },
  {
   "cell_type": "code",
   "execution_count": null,
   "metadata": {},
   "outputs": [],
   "source": [
    "def f(x):\n",
    "    return drawingOfg64.setVisible('B', x)\n",
    "\n",
    "interact(f, x=True);"
   ]
  },
  {
   "cell_type": "markdown",
   "metadata": {},
   "source": [
    "This may not have seemed very sophisticated but it's barely scratching the surface of what the API is capable of. It can not only be used to manipulate values, coordinates, labels, colors, layer visibility, animations, and more, but it can also be used to read values from the applets.\n",
    "\n",
    "Some potential use cases could be:\n",
    "* Using a Python widget to compute some value and immediately update several different GeoGebra applets. \n",
    "* Have the user manipulate a visualization in order to obtain parameters to be used in other Python code (essentially using a GeoGebra applet as a widget on steroids).\n",
    "* Link objects accross different GeoGebra applets (for instance make it so that dragging a point in one applet changes a value and animation in a separate applet).\n",
    "\n",
    "The (mostly) complete reference of what the GeoGebra API supports can be found [here](https://wiki.geogebra.org/en/Reference:GeoGebra_Apps_API), though the \n",
    "\n",
    "## Future\n",
    "The plans for implementing a Python the **API** work is split into two parts.\n",
    "\n",
    "* The first part involves being able to manipulate GeoGebra applets from Python code and being able to get information back out to Python.\n",
    "* The second part involves establishing event handlers in order to link interactions between different applets directly (so that you could make two points on different applets have their coordinates set equal to each other, that way interacting with one applet would also affect the other).\n",
    "\n",
    "If anyone has any features they would like to see or any questions, suggestions, and or feedback is all very much appreciated."
   ]
  },
  {
   "cell_type": "code",
   "execution_count": null,
   "metadata": {},
   "outputs": [],
   "source": []
  }
 ],
 "metadata": {
  "kernelspec": {
   "display_name": "Python 3",
   "language": "python",
   "name": "python3"
  },
  "language_info": {
   "codemirror_mode": {
    "name": "ipython",
    "version": 3
   },
   "file_extension": ".py",
   "mimetype": "text/x-python",
   "name": "python",
   "nbconvert_exporter": "python",
   "pygments_lexer": "ipython3",
   "version": "3.6.5"
  }
 },
 "nbformat": 4,
 "nbformat_minor": 2
}
