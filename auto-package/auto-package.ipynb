{
 "cells": [
  {
   "cell_type": "markdown",
   "metadata": {},
   "source": [
    "# Auto-installing Packages\n",
    "\n",
    "Notebook extensions often rely on Python packages to make everything tick. It can be hassle to ensure that every notebook has the right dependencies. We can get around this by leveraging `ModuleNotFoundError` exceptions to install what we need."
   ]
  },
  {
   "cell_type": "code",
   "execution_count": 64,
   "metadata": {},
   "outputs": [
    {
     "name": "stdout",
     "output_type": "stream",
     "text": [
      "Uninstalling nbvis-0.0.dev0:\r\n",
      "  Successfully uninstalled nbvis-0.0.dev0\r\n"
     ]
    }
   ],
   "source": [
    "if True:\n",
    "    !pip uninstall nbvis -y\n",
    "try:\n",
    "    import nbvis.magics\n",
    "    from nbvis.classes import Vis, D3, MathBox\n",
    "except ModuleNotFoundError as exception:\n",
    "    print(exception)\n",
    "    \n",
    "    !pip install --upgrade --force-reinstall --user \\\n",
    "        git+git://github.com/callysto/nbplus.git#egg=nbvis\\&subdirectory=nbvis\n",
    "    \n",
    "    import nbvis.magics\n",
    "    from nbvis.classes import Vis, D3, MathBox"
   ]
  },
  {
   "cell_type": "markdown",
   "metadata": {},
   "source": [
    "If the installation (via `pip install`) goes well, our dependencies have been installed and imported. Certainly, this is a lot of overhead to ensure that one package is available.\n",
    "\n",
    "We can tuck some of this away. What's important here is the name of the module (e.g. `nbvis`), and its installation command:\n",
    "\n",
    "```bash\n",
    "!pip install --upgrade --force-reinstall --user \\\n",
    "    git+git://github.com/callysto/nbplus.git#egg=nbvis\\&subdirectory=nbvis\n",
    "```\n",
    "\n",
    "We expect users to include the import statements anyways. What we need to do is simple:\n",
    "\n",
    "1. Check if a Python package exists locally\n",
    "2. Provide a `pip install` specifier if the package doesn't exist\n",
    "\n",
    "We've created a Jupyter magic `%install` to handle this, reducing overhead by iterating over and installing our dependencies."
   ]
  },
  {
   "cell_type": "code",
   "execution_count": 69,
   "metadata": {},
   "outputs": [
    {
     "name": "stdout",
     "output_type": "stream",
     "text": [
      "Collecting nbvis from git+git://github.com/callysto/nbplus.git#egg=nbvis&subdirectory=nbvis\n",
      "  Cloning git://github.com/callysto/nbplus.git to /private/var/folders/tc/tbtvhj_x6tqg55fzf7_nwkm00000gn/T/pip-install-lqgqjtf5/nbvis\n",
      "Building wheels for collected packages: nbvis\n",
      "  Running setup.py bdist_wheel for nbvis: started\n",
      "  Running setup.py bdist_wheel for nbvis: finished with status 'done'\n",
      "  Stored in directory: /private/var/folders/tc/tbtvhj_x6tqg55fzf7_nwkm00000gn/T/pip-ephem-wheel-cache-0qqo68yw/wheels/cd/8f/54/42a9349ed6e488bb120c4c182ad6aa4f19e86061fe875bf3c5\n",
      "Successfully built nbvis\n",
      "Installing collected packages: nbvis\n",
      "  Found existing installation: nbvis 0.0.dev0\n",
      "    Uninstalling nbvis-0.0.dev0:\n",
      "      Successfully uninstalled nbvis-0.0.dev0\n",
      "Successfully installed nbvis-0.0.dev0\n"
     ]
    },
    {
     "data": {
      "application/javascript": [
       "requirejs.config({\n",
       "    paths: {\"d3-require\": \"//unpkg.com/d3-require@1.0.4/dist/d3-require.min\", \"topojson\": \"//unpkg.com/topojson-client@3?\", \"mathBox\": \"//cdn.rawgit.com/unconed/mathbox/eaeb8e15/build/mathbox-bundle\"}\n",
       "});\n",
       "\n",
       "requirejs(['d3-require', 'topojson', 'mathBox'], (d3, topojson) => {\n",
       "    d3.require(...['d3-scale-chromatic', 'd3-collection', 'd3-array', 'd3-axis', 'd3-interpolate', 'd3-color', 'd3-contour', 'd3-dispatch', 'd3-brush', 'd3-chord', 'd3-drag', 'd3-dsv', 'd3-ease', 'd3-fetch', 'd3-force', 'd3-format', 'd3-hierarchy', 'd3-geo', 'd3-path', 'd3-polygon', 'd3-quadtree', 'd3-random', 'd3-scale', 'd3-selection', 'd3-time-format', 'd3-shape', 'd3-time', 'd3-timer', 'd3-transition', 'd3-voronoi', 'd3-zoom']).then(d3 => {\n",
       "        \n",
       "    });\n",
       "});\n"
      ],
      "text/plain": [
       "<IPython.core.display.Javascript object>"
      ]
     },
     "metadata": {},
     "output_type": "display_data"
    },
    {
     "data": {
      "text/plain": [
       "<nbvis.classes.Vis at 0x11011ba90>"
      ]
     },
     "execution_count": 69,
     "metadata": {},
     "output_type": "execute_result"
    }
   ],
   "source": [
    "import install_magic\n",
    "dependencies = {\n",
    "    'nbvis': 'git+git://github.com/callysto/nbplus.git#egg=nbvis\\&subdirectory=nbvis'\n",
    "}\n",
    "for package in dependencies.items():\n",
    "    %install $package\n",
    "\n",
    "import nbvis.magics\n",
    "from nbvis.classes import Vis, D3, MathBox\n",
    "Vis()"
   ]
  },
  {
   "cell_type": "markdown",
   "metadata": {},
   "source": [
    "That dreaded `import install_magic` may go away.\n",
    "\n",
    "So too may the dependencies: we could place them in the notebook's metadata.\n",
    "\n",
    "---"
   ]
  },
  {
   "cell_type": "markdown",
   "metadata": {},
   "source": [
    "### Acknowledgements\n",
    "\n",
    "1. [I learned how to get exceptions as strings.](https://stackoverflow.com/questions/9823936/python-how-do-i-know-what-type-of-exception-occurred)\n",
    "2. [I found out how to define custom line magics.](https://ipython.readthedocs.io/en/stable/config/custommagics.html)\n",
    "3. [I learned what a \"requirement specifier\" is.](https://packaging.python.org/glossary/#term-requirement-specifier)\n",
    "4. [I learned how to execute Bash subprocesses within Python scripts.](https://unix.stackexchange.com/questions/190495/how-to-execute-a-bash-command-in-a-python-script)\n",
    "5. [I found a way to `pip install` using Bash.](https://stackoverflow.com/questions/12332975/installing-python-module-within-code)\n",
    "6. [I figured out that outputs from Bash need to be decoded.](https://stackoverflow.com/questions/16748083/suppress-print-without-b-prefix-for-bytes-in-python-3)\n",
    "7. [I needed a way to pass Python variables as magic arguments.](https://stackoverflow.com/questions/14409167/how-to-pass-a-variable-to-magic-%C2%B4run%C2%B4-function-in-ipython)\n",
    "8. [This was handy for figuring out how to add arguments.](http://mlexplained.com/2017/12/28/creating-custom-magic-commands-in-jupyter/)\n",
    "9. [I should have left `store_true` in the magic arguments so that I could use flags like `--quiet`](https://stackoverflow.com/questions/8259001/python-argparse-command-line-flags-without-arguments)\n",
    "\n",
    "---"
   ]
  }
 ],
 "metadata": {
  "kernelspec": {
   "display_name": "Python 3",
   "language": "python",
   "name": "python3"
  },
  "language_info": {
   "codemirror_mode": {
    "name": "ipython",
    "version": 3
   },
   "file_extension": ".py",
   "mimetype": "text/x-python",
   "name": "python",
   "nbconvert_exporter": "python",
   "pygments_lexer": "ipython3",
   "version": "3.7.0"
  }
 },
 "nbformat": 4,
 "nbformat_minor": 2
}
