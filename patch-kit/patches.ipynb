{
 "cells": [
  {
   "cell_type": "markdown",
   "metadata": {},
   "source": [
    "# Patches\n",
    "\n",
    "I wanted to immerse documentation in source code, so I wrote a tiny module `patch_kit.py` that offloads and executes reusable/modular code into specialized \"patch notebooks.\"\n",
    "\n",
    "Any patch notebook _must_ contain\n",
    "   \n",
    "```python\n",
    "%store -r patch_in\n",
    "<do something with patch_in>\n",
    "\n",
    "patch_out = <result>\n",
    "%store patch_out\n",
    "```\n",
    "\n",
    "We can import a `patch` method from `patch_kit.py`, and specify some input data."
   ]
  },
  {
   "cell_type": "code",
   "execution_count": 1,
   "metadata": {},
   "outputs": [
    {
     "data": {
      "text/plain": [
       "[0, 1, 2, 3, 4, 5, 6, 7, 8, 9]"
      ]
     },
     "execution_count": 1,
     "metadata": {},
     "output_type": "execute_result"
    }
   ],
   "source": [
    "from patch_kit import patch\n",
    "data = [i for i in range(10)]\n",
    "data"
   ]
  },
  {
   "cell_type": "markdown",
   "metadata": {},
   "source": [
    "Suppose I want to square every `data` entry. It is compact to \"patch\" every value in a list comprehension with a squaring function."
   ]
  },
  {
   "cell_type": "code",
   "execution_count": 2,
   "metadata": {},
   "outputs": [
    {
     "data": {
      "text/plain": [
       "[0, 1, 4, 9, 16, 25, 36, 49, 64, 81]"
      ]
     },
     "execution_count": 2,
     "metadata": {},
     "output_type": "execute_result"
    }
   ],
   "source": [
    "squared = [patch(\"squared\", x) for x in data]\n",
    "squared"
   ]
  },
  {
   "cell_type": "markdown",
   "metadata": {},
   "source": [
    "---\n",
    "\n",
    ">_We should imagine that the contents here live in a notebook of their own._\n",
    "\n",
    "## What I mean by a _patch notebook_.\n",
    "\n",
    "A patch notebook retrieves an input variable `patch_in`."
   ]
  },
  {
   "cell_type": "code",
   "execution_count": 8,
   "metadata": {},
   "outputs": [],
   "source": [
    "%store -r patch_in"
   ]
  },
  {
   "cell_type": "markdown",
   "metadata": {},
   "source": [
    "We are then free to do as we wish with the input. Let's square its value for now."
   ]
  },
  {
   "cell_type": "code",
   "execution_count": 9,
   "metadata": {},
   "outputs": [],
   "source": [
    "def square(i): return i*i\n",
    "patch_out = square(patch_in)"
   ]
  },
  {
   "cell_type": "markdown",
   "metadata": {},
   "source": [
    "We do not forget to store the output variable `patch_out` so that other notebooks may access it."
   ]
  },
  {
   "cell_type": "code",
   "execution_count": 10,
   "metadata": {},
   "outputs": [
    {
     "name": "stdout",
     "output_type": "stream",
     "text": [
      "Stored 'patch_out' (int)\n"
     ]
    }
   ],
   "source": [
    "%store patch_out"
   ]
  },
  {
   "cell_type": "markdown",
   "metadata": {},
   "source": [
    "---"
   ]
  },
  {
   "cell_type": "markdown",
   "metadata": {},
   "source": [
    "### Acknowledgements\n",
    "\n",
    "1. [I figured out how to use the `%store` magic.](https://stackoverflow.com/questions/49817409/running-a-jupyter-notebook-from-another-notebook)\n",
    "\n",
    "2. [I noticed the `-i` flag for the `%run` magic.](https://stackoverflow.com/questions/46820900/display-output-from-another-python-script-in-jupyter-notebook)\n",
    "\n",
    "3. [I learned how to suppress notebook output using `with` statements.](https://stackoverflow.com/questions/23692950/how-do-you-suppress-output-in-ipython-notebook)\n",
    "\n",
    "4. [I learned how to call magics from `.py` files.](https://stackoverflow.com/questions/44175914/jupyter-how-to-execute-cell-magic-placed-in-separate-file).\n",
    "\n",
    "5. [I found plenty of examples of using magics in `.py` files.](https://www.programcreek.com/python/example/50972/IPython.get_ipython)\n",
    "\n",
    "5. [I found a succinct way to check for file existence using `os`.](https://stackoverflow.com/questions/82831/how-do-i-check-whether-a-file-exists-without-exceptions)\n",
    "\n",
    "\n",
    "\n",
    "---"
   ]
  }
 ],
 "metadata": {
  "kernelspec": {
   "display_name": "Python 3",
   "language": "python",
   "name": "python3"
  },
  "language_info": {
   "codemirror_mode": {
    "name": "ipython",
    "version": 3
   },
   "file_extension": ".py",
   "mimetype": "text/x-python",
   "name": "python",
   "nbconvert_exporter": "python",
   "pygments_lexer": "ipython3",
   "version": "3.7.0"
  }
 },
 "nbformat": 4,
 "nbformat_minor": 2
}
