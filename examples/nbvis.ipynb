{
 "cells": [
  {
   "cell_type": "code",
   "execution_count": 1,
   "metadata": {},
   "outputs": [],
   "source": [
    "%load_ext autoreload\n",
    "%autoreload 2"
   ]
  },
  {
   "cell_type": "markdown",
   "metadata": {},
   "source": [
    "# Connections\n",
    "\n",
    "I admire the efforts at [Observable](https://beta.observablehq.com/) to produce reactive code. Here I'll try to bring this spirit of synchronization to visualizations in Jupyter.\n",
    "\n",
    "We can use `Traitlets` and `IPyWidgets` to synchronize state. I've assembled a number of custom widgets in `d3_widgets.py` and `mathbox_widgets.py` to facilitate our exploration:\n",
    "\n",
    "* `BounceySlider`: a D3.js-based slider with spring-like dragging. Hold Alt/Option while dragging to fix the slider's position.\n",
    "* `MathBox`: a container for hosting MathBox.js, a powerful WebGL-based visualization library.\n",
    "\n",
    "All of these are developed upon the Jupyter [widget skeleton](https://ipywidgets.readthedocs.io/en/stable/examples/Widget%20Low%20Level.html#Widget-skeleton).\n",
    "\n",
    "I've also added Jupyter widget structure to the `Vis`, `D3`, and `MathBox` objects in `nbvis.classes`."
   ]
  },
  {
   "cell_type": "code",
   "execution_count": 2,
   "metadata": {},
   "outputs": [
    {
     "data": {
      "application/javascript": [
       "/* ...\n",
       "*/\n",
       "\n",
       "requirejs.undef(\"D3\");\n",
       "requirejs.config({\n",
       "    paths: {\"d3\": \"//d3js.org/d3.v5.min\"}\n",
       "});\n",
       "\n",
       "define(\"D3\", [\"@jupyter-widgets/base\", \"d3\"],\n",
       "    function(widgets, d3) {\n",
       "    \n",
       "        var render = function() {\n",
       "            D3View.__super__.render.apply(this, arguments);\n",
       "            this._value_changed();\n",
       "            this.listenTo(this.model, \"change:value\", this._value_changed, this);\n",
       "            \n",
       "            var model = this.model;\n",
       "\n",
       "            var div = document.createElement(\"div\");\n",
       "            this.el.appendChild(div);\n",
       "            \n",
       "            // !important: prompt the div to resize\n",
       "            window.dispatchEvent(new Event(\"resize\"));\n",
       "            \n",
       "            div.style.height = model.get(\"height\").toString() + \"px\";\n",
       "            console.log(\"Do D3 stuff\");\n",
       "            \n",
       "            // check if element is visible in browser window\n",
       "            function isInViewport(element) {\n",
       "                var rect = element.getBoundingClientRect(),\n",
       "                    html = document.documentElement,\n",
       "                    w = window.innerWidth || html.clientWidth,\n",
       "                    h = window.innerHeight || html.clientHeight;\n",
       "                return rect.top < h && rect.left < w && rect.bottom > 0 && rect.right > 0;\n",
       "            }\n",
       "            \n",
       "            // run update/render loop only for visible elements\n",
       "            document.getElementById(\"site\").onscroll = (e) => {\n",
       "                console.log(\"Pause visualization\");\n",
       "                /*\n",
       "                if (three.element.offsetParent === null) {\n",
       "                    three.destroy();\n",
       "                    return;\n",
       "                }\n",
       "                var visible = isInViewport(three.canvas);\n",
       "                if (three.Loop.running != visible) {\n",
       "                    visible ? three.Loop.start() : three.Loop.stop();\n",
       "                }\n",
       "                */\n",
       "            }\n",
       "            \n",
       "            // !important: these global variables must go away someday\n",
       "            window[model.get(\"name\") + \"Model\"] = model;\n",
       "            window[model.get(\"name\") + \"D3\"] = d3;\n",
       "            \n",
       "            console.log(\"Filename is\", model.get(\"filename\"));\n",
       "            if (model.get(\"filename\")) {\n",
       "                $.getScript(model.get(\"filename\") + \".js\", function(data) {});\n",
       "            }\n",
       "        }\n",
       "    \n",
       "        var whenValueChanges = function() {\n",
       "            var old_value = this.model.previous(\"value\"),\n",
       "                new_value = this.model.get(\"value\");\n",
       "        }\n",
       "    \n",
       "        var D3View = widgets.DOMWidgetView.extend({\n",
       "            render: render,\n",
       "            _value_changed: whenValueChanges\n",
       "        });\n",
       "\n",
       "        return { D3View: D3View }\n",
       "    }\n",
       "      );"
      ],
      "text/plain": [
       "<IPython.core.display.Javascript object>"
      ]
     },
     "metadata": {},
     "output_type": "display_data"
    },
    {
     "data": {
      "application/javascript": [
       "/* ...\n",
       "*/\n",
       "\n",
       "requirejs.undef(\"bouncey_slider\");\n",
       "requirejs.config({\n",
       "    paths: {\n",
       "        \"d3\": \"//d3js.org/d3.v5.min\"\n",
       "    }\n",
       "});\n",
       "\n",
       "define(\"bouncey_slider\", [\"@jupyter-widgets/base\", \"d3\"], function(widgets, d3) {\n",
       "    var render = function() {\n",
       "        bounceySliderView.__super__.render.apply(this, arguments);\n",
       "        this._value_changed();\n",
       "        this.listenTo(this.model, \"change:value\", this._value_changed, this);\n",
       "        \n",
       "        d3.select(\"div.output_subarea\")\n",
       "          .style(\"max-width\", \"unset\");\n",
       "        \n",
       "        var el = d3.select(this.el);\n",
       "        \n",
       "        var width = d3.select(\".output_area\")\n",
       "                          .node().getBoundingClientRect().width -\n",
       "                        d3.select(\".out_prompt_overlay\")\n",
       "                          .node().getBoundingClientRect().width,\n",
       "            height = 150;\n",
       "        \n",
       "        var svg = el.append(\"svg\")\n",
       "                    .attr(\"id\", \"slider\")\n",
       "                    .attr(\"width\", width)\n",
       "                    .attr(\"height\", height);\n",
       "        \n",
       "        var g = svg.append(\"g\")\n",
       "                   .attr(\"transform\", \"translate(\" + width/2 + \",\" + height/2 + \")\")\n",
       "        \n",
       "        var xScale = d3.scaleLinear()\n",
       "                .domain(d3.extent([this.model.get(\"left\"), this.model.get(\"right\")]))\n",
       "                .range([-width/2 + width/5, width/2 - width/5]);\n",
       "\n",
       "        var xAxis = d3.axisBottom(xScale)\n",
       "                .ticks(width/200)\n",
       "                .tickSize(0)\n",
       "                .tickPadding(15)\n",
       "\n",
       "        g.append(\"g\")\n",
       "            .attr(\"opacity\", 2/3)\n",
       "            .call(xAxis);\n",
       "        \n",
       "        var data = [{}];\n",
       "        \n",
       "        console.log(this.model.get(\"value\"));\n",
       "        \n",
       "        var simulation = d3.forceSimulation(data)\n",
       "                .force(\"x\", d3.forceX().x(xScale(this.model.get(\"value\"))))\n",
       "                .alphaDecay(3e-2)\n",
       "                .velocityDecay(2/10);\n",
       "\n",
       "        var node = g.selectAll(\".node\")\n",
       "                    .data(data)\n",
       "                .enter().append(\"circle\")\n",
       "                    .attr(\"r\", d => d.radius ? d.radius : 8);\n",
       "        \n",
       "        node.on(\"dblclick\", () => {\n",
       "            simulation.force(\"x\", d3.forceX().x(0));\n",
       "            simulation.alpha(1).restart();\n",
       "        });\n",
       "        \n",
       "        node.call((() => {\n",
       "                return d3.drag()\n",
       "                    .on(\"start\", d => {\n",
       "                        if (!d3.event.active) simulation.alpha(1).restart();\n",
       "                        d.fx = d.x;\n",
       "                    })\n",
       "                    .on(\"drag\", d => { d.fx = d3.event.x; })\n",
       "                    .on(\"end\", d => {\n",
       "                        if (d3.event.sourceEvent.altKey) {\n",
       "                            simulation.force(\"x\", d3.forceX().x(d.fx));\n",
       "                            simulation.alpha(1).restart();\n",
       "                        }\n",
       "                        d.fx = null;\n",
       "                });\n",
       "        })());\n",
       "        \n",
       "        simulation.on(\"tick\", () => {\n",
       "            node.attr(\"cx\", d => d.x)\n",
       "            this.model.set(\"value\", xScale.invert(node.attr(\"cx\")));\n",
       "            this.touch(); // !? impedes kernel\n",
       "        });\n",
       "    }\n",
       "    \n",
       "    var whenValueChanges = function() {\n",
       "        var old_value = this.model.previous(\"value\"),\n",
       "            new_value = this.model.get(\"value\");\n",
       "        // console.log(\"Value changed to\", new_value);\n",
       "    }\n",
       "    \n",
       "    var bounceySliderView = widgets.DOMWidgetView.extend({\n",
       "        render: render,\n",
       "        _value_changed: whenValueChanges\n",
       "    });\n",
       "    \n",
       "    return { bounceySliderView: bounceySliderView }\n",
       "});"
      ],
      "text/plain": [
       "<IPython.core.display.Javascript object>"
      ]
     },
     "metadata": {},
     "output_type": "display_data"
    },
    {
     "data": {
      "application/javascript": [
       "/* ...\n",
       "*/\n",
       "\n",
       "requirejs.undef(\"MathBox\");\n",
       "requirejs.config({\n",
       "    paths: {\"mathbox\": \"//unpkg.com/mathbox@0.1.0?\"}\n",
       "});\n",
       "\n",
       "define(\"MathBox\", [\"@jupyter-widgets/base\", \"mathbox\"],\n",
       "    function(widgets, mathbox) {\n",
       "    \n",
       "        var render = function() {\n",
       "            MathBoxView.__super__.render.apply(this, arguments);\n",
       "            this._value_changed();\n",
       "            this.listenTo(this.model, \"change:value\", this._value_changed, this);\n",
       "            \n",
       "            var model = this.model;\n",
       "\n",
       "            var div = document.createElement(\"div\");\n",
       "            this.el.appendChild(div);\n",
       "            \n",
       "            var raw_config = model.get(\"config\");\n",
       "            if (raw_config.hasOwnProperty(\"plugins\")) {\n",
       "                if (raw_config.plugins.indexOf(\"controls\") !== -1 &&\n",
       "                    raw_config.hasOwnProperty(\"controls\")) {\n",
       "                        if (raw_config.controls.klass === \"THREE.OrbitControls\") {\n",
       "                            raw_config.controls.klass = THREE.OrbitControls;\n",
       "                        }\n",
       "                }\n",
       "            }\n",
       "            \n",
       "            var config = Object.assign(\n",
       "                {element: this.el.firstChild},\n",
       "                raw_config\n",
       "            );\n",
       "\n",
       "            // append a MathBox canvas to the div, set its colour and dimensions\n",
       "            // identify three.js bootstrap\n",
       "            var mathbox = mathBox(config),\n",
       "                three = mathbox.three;\n",
       "            three.renderer.setClearColor(new THREE.Color(0xFFFFFF), 1.0);\n",
       "            mathbox.three.element.style.width = \"100%\";\n",
       "            mathbox.three.element.style.height = model.get(\"height\")\n",
       "                                                      .toString() + \"px\";\n",
       "            if (mathbox.fallback) throw \"WebGL error\";\n",
       "\n",
       "            // !important: prompt the canvas to resize\n",
       "            window.dispatchEvent(new Event(\"resize\"));\n",
       "            \n",
       "            // check if element is visible in browser window\n",
       "            function isInViewport(element) {\n",
       "                var rect = element.getBoundingClientRect(),\n",
       "                    html = document.documentElement,\n",
       "                    w = window.innerWidth || html.clientWidth,\n",
       "                    h = window.innerHeight || html.clientHeight;\n",
       "                return rect.top < h && rect.left < w && rect.bottom > 0 && rect.right > 0;\n",
       "            }\n",
       "            \n",
       "            // run update/render loop only for visible elements\n",
       "            document.getElementById(\"site\").onscroll = (e) => {\n",
       "                if (three.element.offsetParent === null) {\n",
       "                    three.destroy();\n",
       "                    return;\n",
       "                }\n",
       "                var visible = isInViewport(three.canvas);\n",
       "                if (three.Loop.running != visible) {\n",
       "                    visible ? three.Loop.start() : three.Loop.stop();\n",
       "                }\n",
       "            }\n",
       "            \n",
       "            three.Loop.start();\n",
       "            \n",
       "            // !important: these global variables must go away someday\n",
       "            window[model.get(\"name\") + \"Model\"] = model;\n",
       "            window[model.get(\"name\") + \"MathBox\"] = mathbox;\n",
       "            \n",
       "            console.log(\"Filename is\", model.get(\"filename\"));\n",
       "            if (model.get(\"filename\")) {\n",
       "                $.getScript(model.get(\"filename\") + \".js\", function(data) {});\n",
       "            }\n",
       "        }\n",
       "    \n",
       "        var whenValueChanges = function() {\n",
       "            var old_value = this.model.previous(\"value\"),\n",
       "                new_value = this.model.get(\"value\");\n",
       "        }\n",
       "    \n",
       "        var MathBoxView = widgets.DOMWidgetView.extend({\n",
       "            render: render,\n",
       "            _value_changed: whenValueChanges\n",
       "        });\n",
       "\n",
       "        return { MathBoxView: MathBoxView }\n",
       "    }\n",
       "      );"
      ],
      "text/plain": [
       "<IPython.core.display.Javascript object>"
      ]
     },
     "metadata": {},
     "output_type": "display_data"
    }
   ],
   "source": [
    "from d3_widgets import BounceySlider\n",
    "from mathbox_widgets import MathBox\n",
    "from d3_widgets import D3\n",
    "from nbvis.classes import Vis\n",
    "from IPython.display import display"
   ]
  },
  {
   "cell_type": "markdown",
   "metadata": {},
   "source": [
    "---\n",
    "\n",
    "### Synchronizing slider values with Python variables\n",
    "\n",
    "We have new magics to import as part of `connector_kit.py`."
   ]
  },
  {
   "cell_type": "code",
   "execution_count": 3,
   "metadata": {},
   "outputs": [
    {
     "data": {
      "text/html": [
       "<style>.watch_variable {\n",
       "    font-size: inherit;\n",
       "    font-family: monospace;\n",
       "}</style>"
      ],
      "text/plain": [
       "<IPython.core.display.HTML object>"
      ]
     },
     "metadata": {},
     "output_type": "display_data"
    }
   ],
   "source": [
    "import connector_kit"
   ]
  },
  {
   "cell_type": "markdown",
   "metadata": {},
   "source": [
    "Use `%watch <variable>` to create a live preview of client-side JavaScript changes to `<variable>`."
   ]
  },
  {
   "cell_type": "code",
   "execution_count": 4,
   "metadata": {},
   "outputs": [
    {
     "data": {
      "application/vnd.jupyter.widget-view+json": {
       "model_id": "c30d4137eaa24f79a151c0d971942113",
       "version_major": 2,
       "version_minor": 0
      },
      "text/plain": [
       "Label(value='0', _dom_classes=('watch_variable',))"
      ]
     },
     "metadata": {},
     "output_type": "display_data"
    }
   ],
   "source": [
    "x = 0\n",
    "%watch x"
   ]
  },
  {
   "cell_type": "markdown",
   "metadata": {},
   "source": [
    "With a variable being \"watched\", use `%connect <variable> : <widget>` to synchronize a widget to the variable's value."
   ]
  },
  {
   "cell_type": "code",
   "execution_count": 6,
   "metadata": {},
   "outputs": [
    {
     "data": {
      "application/vnd.jupyter.widget-view+json": {
       "model_id": "729fb2d54d7b441b961d41d8b16a65a0",
       "version_major": 2,
       "version_minor": 0
      },
      "text/plain": [
       "MathBox(config={'plugins': ['core', 'controls', 'cursor'], 'controls': {'klass': 'THREE.OrbitControls'}}, file…"
      ]
     },
     "metadata": {},
     "output_type": "display_data"
    },
    {
     "data": {
      "application/vnd.jupyter.widget-view+json": {
       "model_id": "6e9693b3d33e49fc95cbc434fc6463f1",
       "version_major": 2,
       "version_minor": 0
      },
      "text/plain": [
       "BounceySlider(right=1.0)"
      ]
     },
     "metadata": {},
     "output_type": "display_data"
    }
   ],
   "source": [
    "slider = BounceySlider(left=0, right=1)\n",
    "plot = MathBox(name=\"FirstWindow\", filename=\"FirstWindow\", height=300,\n",
    "               config={\n",
    "                   'plugins': ['core', 'controls', 'cursor'],\n",
    "                   'controls': {'klass': 'THREE.OrbitControls'}\n",
    "               })\n",
    "d3 = D3(name=\"FirstWindow\", filename=\"FirstWindow\", height=200)\n",
    "%connect x : slider\n",
    "%connect x : plot\n",
    "%connect x : d3\n",
    "display(plot, slider)"
   ]
  },
  {
   "cell_type": "markdown",
   "metadata": {},
   "source": [
    "At any time, we can access the variable's value naturally through Python."
   ]
  },
  {
   "cell_type": "code",
   "execution_count": 7,
   "metadata": {},
   "outputs": [
    {
     "data": {
      "text/plain": [
       "1.0377883005637238"
      ]
     },
     "execution_count": 7,
     "metadata": {},
     "output_type": "execute_result"
    }
   ],
   "source": [
    "x"
   ]
  },
  {
   "cell_type": "markdown",
   "metadata": {},
   "source": [
    "---"
   ]
  },
  {
   "cell_type": "markdown",
   "metadata": {},
   "source": [
    "---\n",
    "\n",
    "### Acknowledgements\n",
    "\n",
    "0. [It turns out that we can make our own widgets.](https://ipywidgets.readthedocs.io/en/stable/examples/Widget%20Custom.html)\n",
    "1. [I found the Jupyter widget skeleton.](https://ipywidgets.readthedocs.io/en/stable/examples/Widget%20Low%20Level.html#Widget-skeleton)\n",
    "2. [I needed to know how to bind widget values to variable values.](https://github.com/jupyter-widgets/ipywidgets/issues/1947)\n",
    "3. [I needed my magics to be stateful.](https://ipython.readthedocs.io/en/stable/config/custommagics.html)\n",
    "4. [I needed to know which trait types are available in `traitlets`.](https://traitlets.readthedocs.io/en/stable/trait_types.html)\n",
    "5. [It was helpful to know how to concatenate JSON.](https://stackoverflow.com/questions/433627/concat-json-objects)\n",
    "6. [I needed a way to check for the existence of Object keys.](https://appendto.com/2016/02/checking-key-exists-javascript-object/)\n",
    "7. [I found a hacky way to access MathBox elements through `window` after the initial render.](https://github.com/requirejs/requirejs/issues/1712)\n",
    "8. [I found a helpful MathBox example (2D Cartesian plot w/ sine wave w/ animation).](https://github.com/unconed/mathbox/blob/master/docs/intro.md)\n",
    "\n",
    "---\n",
    "\n",
    "https://ipywidgets.readthedocs.io/en/stable/examples/Widget%20Events.html#Linking-Widgets\n",
    "https://github.com/jupyter-widgets/ipywidgets/issues/1783\n",
    "\n",
    "https://ipywidgets.readthedocs.io/en/stable/examples/Output%20Widget.html\n",
    "\n",
    "https://stackoverflow.com/questions/6190468/how-to-trigger-function-on-value-change\n",
    "https://github.com/jupyter-widgets/ipywidgets/issues/2148\n",
    "https://stackoverflow.com/questions/35361038/using-ipython-ipywidget-to-create-a-variable\n",
    "\n",
    "https://stackoverflow.com/questions/49542417/how-to-get-ipywidgets-working-in-jupyter-lab\n",
    "\n",
    "https://ipywidgets.readthedocs.io/en/stable/examples/Widget%20Styling.html\n",
    "https://github.com/jupyter-widgets/ipywidgets/issues/121\n",
    "https://github.com/jupyter-widgets/ipywidgets/issues/577\n",
    "https://github.com/jupyter-widgets/ipywidgets/blob/master/docs/source/examples/Widget%20Styling.ipynb\n",
    "https://github.com/jupyter-widgets/ipywidgets/issues/920\n",
    "\n",
    "https://ipywidgets.readthedocs.io/en/stable/examples/Widget%20List.html\n",
    "\n",
    "https://github.com/jupyter-widgets/ipywidgets/issues/920\n",
    "https://github.com/jupyter-widgets/ipywidgets/issues/1798\n",
    "\n",
    "https://stackoverflow.com/questions/13461211/ipython-notebook-detect-if-kernel-is-busy-idle-in-javascript\n",
    "https://github.com/ipython-contrib/jupyter_contrib_nbextensions/issues/664\n",
    "\n",
    "https://stackoverflow.com/questions/10423880/python-can-a-class-instance-evaluate-to-any-type\n",
    "https://stackoverflow.com/questions/6760685/creating-a-singleton-in-python\n",
    "https://medium.com/broken-window/many-names-one-memory-address-122f78734cb6\n",
    "\n",
    "---"
   ]
  }
 ],
 "metadata": {
  "kernelspec": {
   "display_name": "Python 3",
   "language": "python",
   "name": "python3"
  },
  "language_info": {
   "codemirror_mode": {
    "name": "ipython",
    "version": 3
   },
   "file_extension": ".py",
   "mimetype": "text/x-python",
   "name": "python",
   "nbconvert_exporter": "python",
   "pygments_lexer": "ipython3",
   "version": "3.7.0"
  }
 },
 "nbformat": 4,
 "nbformat_minor": 2
}
