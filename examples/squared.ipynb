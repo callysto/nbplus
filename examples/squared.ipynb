{
 "cells": [
  {
   "cell_type": "markdown",
   "metadata": {},
   "source": [
    "# The Square\n",
    "\n",
    "Squares are a geometric object, but they have a numerical meaning as well.\n",
    "\n",
    "The square of $1$ is $1 \\cdot 1 = 1$. The square of $2$ is $2 \\cdot 2 = 4$, and so on ...\n",
    "\n",
    "Here's a function that takes a number $n$, and squares it to produce $n \\cdot n = n^2$."
   ]
  },
  {
   "cell_type": "code",
   "execution_count": 7,
   "metadata": {},
   "outputs": [],
   "source": [
    "def square(i): return i*i"
   ]
  },
  {
   "cell_type": "code",
   "execution_count": 8,
   "metadata": {},
   "outputs": [
    {
     "name": "stdout",
     "output_type": "stream",
     "text": [
      "Stored 'patch_out' (int)\n"
     ]
    }
   ],
   "source": [
    "%store -r patch_in\n",
    "patch_out = square(patch_in)\n",
    "%store patch_out"
   ]
  },
  {
   "cell_type": "markdown",
   "metadata": {},
   "source": [
    "### end"
   ]
  }
 ],
 "metadata": {
  "kernelspec": {
   "display_name": "Python 3",
   "language": "python",
   "name": "python3"
  },
  "language_info": {
   "codemirror_mode": {
    "name": "ipython",
    "version": 3
   },
   "file_extension": ".py",
   "mimetype": "text/x-python",
   "name": "python",
   "nbconvert_exporter": "python",
   "pygments_lexer": "ipython3",
   "version": "3.7.0"
  }
 },
 "nbformat": 4,
 "nbformat_minor": 2
}
