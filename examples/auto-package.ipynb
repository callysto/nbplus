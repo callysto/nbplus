{
 "cells": [
  {
   "cell_type": "markdown",
   "metadata": {},
   "source": [
    "# `auto-package`: Iteratively install packages\n",
    "\n",
    "Notebook extensions often rely on Python packages to make everything tick. It can be hassle to ensure that every notebook has the right dependencies. We can get around this by leveraging `ModuleNotFoundError` exceptions to install what we need."
   ]
  },
  {
   "cell_type": "code",
   "execution_count": null,
   "metadata": {},
   "outputs": [],
   "source": [
    "try: import auto_package\n",
    "except ModuleNotFoundError as exception:\n",
    "    print(exception)\n",
    "    \n",
    "    !pip install --upgrade --force-reinstall --user --no-warn-script-location \\\n",
    "        git+git://github.com/callysto/nbplus.git#egg=auto_package\\&subdirectory=auto_package"
   ]
  },
  {
   "cell_type": "markdown",
   "metadata": {},
   "source": [
    "This is a lot of overhead to ensure that one package is available. We can tuck some of this away. In doing so, it is important that we still specify:\n",
    "\n",
    "* the **name** of the package (e.g. `nbvis`)\n",
    "* a **path** to the package (e.g. `git+git://github.com/callysto/nbplus.git#egg=nbvis\\&subdirectory=nbvis`)\n",
    "\n",
    "A simple Jupyter magic `%install`, and some iteration over a dictionary of `name : path` key-value pairs, is enough to install dependencies. \n",
    "\n",
    ">_Add `--quiet` just before `$package` to greatly simplify the installation output._"
   ]
  },
  {
   "cell_type": "code",
   "execution_count": null,
   "metadata": {},
   "outputs": [],
   "source": [
    "import auto_package\n",
    "dependencies = {\n",
    "    'nbvis': 'git+git://github.com/callysto/nbplus.git#egg=nbvis\\&subdirectory=nbvis'\n",
    "}\n",
    "for package in dependencies.items():\n",
    "    %install --quiet $package"
   ]
  },
  {
   "cell_type": "markdown",
   "metadata": {},
   "source": [
    "#### Let's make sure that the auto-install of `nbvis` actually worked.\n",
    "\n",
    ">_A slider should appear below. Please report something [here](https://github.com/callysto/nbplus/issues) if it doesn't._"
   ]
  },
  {
   "cell_type": "code",
   "execution_count": null,
   "metadata": {},
   "outputs": [],
   "source": [
    "from nbvis.widgets import BouncySlider\n",
    "BouncySlider(left=0,right=1,value=1/2)"
   ]
  },
  {
   "cell_type": "markdown",
   "metadata": {},
   "source": [
    "## Future\n",
    "\n",
    "* We first had to install `auto_package` for everything to work. Make `auto_package` a default installation (in new containers) to get around this. \n",
    "* Notebook dependencies could (but perhaps shouldn't) be hidden altogether in the notebook metadata.\n",
    "\n",
    "---"
   ]
  },
  {
   "cell_type": "markdown",
   "metadata": {},
   "source": [
    "#### Sources\n",
    "\n",
    "1. [Get exceptions as strings.](https://stackoverflow.com/questions/9823936/python-how-do-i-know-what-type-of-exception-occurred)\n",
    "2. [Define custom line magics.](https://ipython.readthedocs.io/en/stable/config/custommagics.html)\n",
    "3. [Learn what a \"requirement specifier\" is.](https://packaging.python.org/glossary/#term-requirement-specifier)\n",
    "4. [Learn how to execute Bash subprocesses within Python scripts.](https://unix.stackexchange.com/questions/190495/how-to-execute-a-bash-command-in-a-python-script)\n",
    "5. [Find a way to `pip install` using Bash.](https://stackoverflow.com/questions/12332975/installing-python-module-within-code)\n",
    "6. [Learn that outputs from Bash need to be decoded.](https://stackoverflow.com/questions/16748083/suppress-print-without-b-prefix-for-bytes-in-python-3)\n",
    "7. [Pass Python variables as magic arguments.](https://stackoverflow.com/questions/14409167/how-to-pass-a-variable-to-magic-%C2%B4run%C2%B4-function-in-ipython)\n",
    "8. [Add arguments to magics.](http://mlexplained.com/2017/12/28/creating-custom-magic-commands-in-jupyter/)\n",
    "9. [Leave `store_true` in magic arguments so that we can use flags like `--quiet`.](https://stackoverflow.com/questions/8259001/python-argparse-command-line-flags-without-arguments)\n",
    "10. [Set up a single file Python package.](https://stackoverflow.com/questions/33431816/how-can-a-python-module-single-file-be-installed-using-pip-and-pypi)\n",
    "\n",
    "---"
   ]
  }
 ],
 "metadata": {
  "kernelspec": {
   "display_name": "Python 3",
   "language": "python",
   "name": "python3"
  },
  "language_info": {
   "codemirror_mode": {
    "name": "ipython",
    "version": 3
   },
   "file_extension": ".py",
   "mimetype": "text/x-python",
   "name": "python",
   "nbconvert_exporter": "python",
   "pygments_lexer": "ipython3",
   "version": "3.7.0"
  }
 },
 "nbformat": 4,
 "nbformat_minor": 2
}
