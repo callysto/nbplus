{
 "cells": [
  {
   "cell_type": "code",
   "execution_count": 1,
   "metadata": {},
   "outputs": [
    {
     "data": {
      "text/html": [
       "<script>\n",
       "code_show=true; \n",
       "function code_toggle() {\n",
       " if (code_show){\n",
       " $('div.input').hide();\n",
       " } else {\n",
       " $('div.input').show();\n",
       " }\n",
       " code_show = !code_show\n",
       "} \n",
       "$( document ).ready(code_toggle);\n",
       "</script>\n",
       "The raw code for this IPython notebook is by default hidden for easier reading.\n",
       "To toggle on/off the raw code, click <a href=\"javascript:code_toggle()\">here</a>."
      ],
      "text/plain": [
       "<IPython.core.display.HTML object>"
      ]
     },
     "execution_count": 1,
     "metadata": {},
     "output_type": "execute_result"
    }
   ],
   "source": [
    "from IPython.display import HTML\n",
    "HTML('''<script>\n",
    "code_show=true; \n",
    "function code_toggle() {\n",
    " if (code_show){\n",
    " $('div.input').hide();\n",
    " } else {\n",
    " $('div.input').show();\n",
    " }\n",
    " code_show = !code_show\n",
    "} \n",
    "$( document ).ready(code_toggle);\n",
    "</script>\n",
    "The raw code for this IPython notebook is by default hidden for easier reading.\n",
    "To toggle on/off the raw code, click <a href=\"javascript:code_toggle()\">here</a>.''')"
   ]
  },
  {
   "cell_type": "code",
   "execution_count": 21,
   "metadata": {},
   "outputs": [
    {
     "name": "stderr",
     "output_type": "stream",
     "text": [
      "UsageError: Line magic function `%top_banner` not found.\n"
     ]
    }
   ],
   "source": [
    "%top_banner"
   ]
  },
  {
   "cell_type": "markdown",
   "metadata": {},
   "source": [
    "<h1 align='center'>Title</h1>\n",
    "\n",
    "<h4 align='center'>Grade $\\mid$ Topic</h4>"
   ]
  },
  {
   "cell_type": "code",
   "execution_count": 2,
   "metadata": {},
   "outputs": [],
   "source": [
    "import matplotlib.pyplot as plt\n",
    "import ipywidgets\n",
    "from ipywidgets import widgets, interact, interact_manual, Button, Layout\n",
    "from IPython.display import Javascript, display\n",
    "\n",
    "def table_of_cont(boolean_val):\n",
    "    \n",
    "    if boolean_val == True:\n",
    "\n",
    "        fig = plt.figure(figsize=(20,18))\n",
    "\n",
    "        table_of_contents = [\"Table of Contents\",\"Introduction\",\"Subtitle I\", \\\n",
    "                     \"Subtitle II\", \"Subtitle III\",\"Conclusion\",\"References\"]\n",
    "        number_of_items = len(table_of_contents)\n",
    "\n",
    "        ax = fig.add_subplot(331)\n",
    "        ax.axis(\"Off\")\n",
    "        ax.invert_yaxis()\n",
    "        for i in range(number_of_items):\n",
    "            if i==0:\n",
    "                ax.text(0,i/5,table_of_contents[i],fontsize=25)\n",
    "    \n",
    "            else:\n",
    "                ax.text(0,i/5,table_of_contents[i],fontsize=18)\n",
    "    \n",
    "    \n",
    "        ax1 = fig.add_subplot(332)\n",
    "        ax1.axis(\"Off\")\n",
    "\n",
    "\n",
    "        ax2 = fig.add_subplot(333)\n",
    "        ax2.axis(\"Off\")\n",
    "\n",
    "        plt.show()\n",
    "\n",
    "\n",
    "        \n",
    "long_name = {'description_width': 'initial'}\n",
    "show_table_button = widgets.Button(\n",
    "    value=True,\n",
    "    description='Show Table of Contents',\n",
    "    disabled=False,\n",
    "    button_style='info', # 'success', 'info', 'warning', 'danger' or ''\n",
    "    tooltip='Description',\n",
    "    style=long_name,\n",
    "    icon='check'\n",
    ")\n",
    "\n",
    "def run_current(ev):\n",
    "    \n",
    "    display(Javascript('IPython.notebook.execute_cell_range(IPython.notebook.get_selected_index()+0,IPython.notebook.get_selected_index()+1)'))   \n",
    "\n",
    "\n",
    "ai_button_show = widgets.Button(button_style='info',description=\"Show Table of Contents\", layout=Layout(width='25%', height='30px') )\n",
    "ai_button_hide = widgets.Button(button_style='info',description=\"Hide Table of Contents\", layout=Layout(width='25%', height='30px') )\n"
   ]
  },
  {
   "cell_type": "code",
   "execution_count": 3,
   "metadata": {},
   "outputs": [],
   "source": [
    "button_ctr = 0\n",
    "    "
   ]
  },
  {
   "cell_type": "code",
   "execution_count": 24,
   "metadata": {},
   "outputs": [
    {
     "data": {
      "application/javascript": [
       "IPython.notebook.execute_cell_range(IPython.notebook.get_selected_index()+0,IPython.notebook.get_selected_index()+1)"
      ],
      "text/plain": [
       "<IPython.core.display.Javascript object>"
      ]
     },
     "metadata": {},
     "output_type": "display_data"
    },
    {
     "data": {
      "application/vnd.jupyter.widget-view+json": {
       "model_id": "72fbc05ba9f94945a84ff56ce6d4bebb",
       "version_major": 2,
       "version_minor": 0
      },
      "text/plain": [
       "Button(button_style='info', description='Show Table of Contents', layout=Layout(height='30px', width='25%'), s…"
      ]
     },
     "metadata": {},
     "output_type": "display_data"
    }
   ],
   "source": [
    "button_ctr += 1\n",
    "\n",
    "\n",
    "if(button_ctr % 2 == 0):\n",
    "\n",
    "    display(ai_button_hide)\n",
    "    ai_button_hide.on_click( run_current )\n",
    "    val = True\n",
    "    table_of_cont(val)\n",
    "    \n",
    "    \n",
    "    \n",
    "else:\n",
    "\n",
    "    display(ai_button_show)\n",
    "    ai_button_show.on_click( run_current )\n",
    "    val = False\n",
    "    table_of_cont(val)\n"
   ]
  },
  {
   "cell_type": "markdown",
   "metadata": {},
   "source": [
    "<h2 align='center'>Introduction</h2>\n",
    "\n",
    "<h5 align='center'>Briefly introduce what topics and activities will be covered throughout the notebook</h5>\n"
   ]
  },
  {
   "cell_type": "markdown",
   "metadata": {},
   "source": [
    "<h2 align='center'>Subtitle I</h2>"
   ]
  },
  {
   "cell_type": "markdown",
   "metadata": {},
   "source": [
    "<h2 align='center'>Subtitle II</h2>"
   ]
  },
  {
   "cell_type": "markdown",
   "metadata": {},
   "source": [
    "<h2 align='center'>Subtitle III</h2>"
   ]
  },
  {
   "cell_type": "markdown",
   "metadata": {},
   "source": [
    "<h2 align='center'>Conclusion</h2>"
   ]
  },
  {
   "cell_type": "markdown",
   "metadata": {},
   "source": [
    "<h2 align='center'>References</h2>"
   ]
  },
  {
   "cell_type": "code",
   "execution_count": 22,
   "metadata": {},
   "outputs": [
    {
     "name": "stderr",
     "output_type": "stream",
     "text": [
      "UsageError: Line magic function `%bottom_banner` not found.\n"
     ]
    }
   ],
   "source": [
    "%bottom_banner"
   ]
  }
 ],
 "metadata": {
  "kernelspec": {
   "display_name": "Python 3",
   "language": "python",
   "name": "python3"
  },
  "language_info": {
   "codemirror_mode": {
    "name": "ipython",
    "version": 3
   },
   "file_extension": ".py",
   "mimetype": "text/x-python",
   "name": "python",
   "nbconvert_exporter": "python",
   "pygments_lexer": "ipython3",
   "version": "3.6.4"
  }
 },
 "nbformat": 4,
 "nbformat_minor": 2
}
